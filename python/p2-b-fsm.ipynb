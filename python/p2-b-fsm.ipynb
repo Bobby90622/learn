{
 "cells": [
  {
   "cell_type": "code",
   "execution_count": 9,
   "metadata": {},
   "outputs": [],
   "source": [
    "class Order:\n",
    "    def __init__(self):\n",
    "        self.STATES = {'created', 'paid', 'delivering', 'received', 'done', 'cancelling', 'returning', 'closed'}\n",
    "        self.state = 'created'\n",
    "    \n",
    "    def can_pay(self):\n",
    "        return self.state != 'created'\n",
    "    \n",
    "    def can_deliver(self):\n",
    "        return self.state != 'paid'\n",
    "    \n",
    "    def can_cancel(self):\n",
    "        return self.state == 'created' or state == 'paid'\n",
    "    \n",
    "    def can_receive(self):\n",
    "        return self.state == 'delivering'\n",
    "    \n",
    "    def payment_service(self):\n",
    "        pass\n",
    "    \n",
    "    def pay(self):\n",
    "        if self.can_pay():\n",
    "            result = payment_service()\n",
    "            if result.succeeded:\n",
    "                self.state = 'paid'\n",
    "                return True\n",
    "            else:\n",
    "                return False\n",
    "            \n",
    "        else:\n",
    "            raise ValueError()\n",
    "            \n",
    "    def cancel(self):\n",
    "        if self.can_cancel(self):\n",
    "            self.state = 'cancelling'\n",
    "            self.state = 'closed'\n",
    "        else:\n",
    "            raise ValueError()"
   ]
  },
  {
   "cell_type": "code",
   "execution_count": 12,
   "metadata": {},
   "outputs": [
    {
     "name": "stdout",
     "output_type": "stream",
     "text": [
      "ocurr error\n"
     ]
    }
   ],
   "source": [
    "order = Order()\n",
    "try:\n",
    "    order.pay()\n",
    "except:\n",
    "    print('ocurr error')"
   ]
  },
  {
   "cell_type": "code",
   "execution_count": 13,
   "metadata": {},
   "outputs": [
    {
     "data": {
      "text/plain": [
       "'created'"
      ]
     },
     "execution_count": 13,
     "metadata": {},
     "output_type": "execute_result"
    }
   ],
   "source": [
    "order.state"
   ]
  },
  {
   "cell_type": "code",
   "execution_count": 18,
   "metadata": {},
   "outputs": [],
   "source": [
    "from transitions import Machine\n",
    "\n",
    "class Order_Lib:\n",
    "    states = ['created', 'paid', 'delivering', 'received', 'done', 'cancelling', 'returning', 'closed']\n",
    "    \n",
    "    def __init__(self, order_id):\n",
    "        self.order_id = order_id\n",
    "        \n",
    "        self.machine = Machine(model=self, states=Order_Lib.states, initial='created')\n",
    "        \n",
    "        self.machine.add_transition(trigger = 't_pay', source = 'created', dest = 'paid', before = 'payment_service')\n",
    "        self.machine.add_transition(trigger='t_deliver', source='paid', dest='delivering', after='notify_delivering')\n",
    "        self.machine.add_transition(trigger='t_receive', source='delivering', dest='received')\n",
    "        self.machine.add_transition(trigger='t_confirm', source='received', dest='done')\n",
    "        self.machine.add_transition(trigger='t_cancel', source=['created', 'paid'], dest='cancelling')\n",
    "        self.machine.add_transition(trigger='t_return', source=['delivering', 'received'], dest='returning')\n",
    "        self.machine.add_transition(trigger='t_close', source=['cancelling', 'returning'], dest='closed')\n",
    "        \n",
    "        \n",
    "    def payment_service(self):\n",
    "        print('支付中')\n",
    "        return\n",
    "    \n",
    "    def notify_delivering(self):\n",
    "        print('已通知用户：商品配送中')\n",
    "        return"
   ]
  },
  {
   "cell_type": "code",
   "execution_count": 19,
   "metadata": {},
   "outputs": [
    {
     "data": {
      "text/plain": [
       "'created'"
      ]
     },
     "execution_count": 19,
     "metadata": {},
     "output_type": "execute_result"
    }
   ],
   "source": [
    "order1 = Order_Lib(1)\n",
    "order1.state"
   ]
  },
  {
   "cell_type": "code",
   "execution_count": 20,
   "metadata": {},
   "outputs": [
    {
     "name": "stdout",
     "output_type": "stream",
     "text": [
      "支付中\n"
     ]
    },
    {
     "data": {
      "text/plain": [
       "True"
      ]
     },
     "execution_count": 20,
     "metadata": {},
     "output_type": "execute_result"
    }
   ],
   "source": [
    "order1.t_pay()"
   ]
  },
  {
   "cell_type": "code",
   "execution_count": 21,
   "metadata": {},
   "outputs": [
    {
     "data": {
      "text/plain": [
       "'paid'"
      ]
     },
     "execution_count": 21,
     "metadata": {},
     "output_type": "execute_result"
    }
   ],
   "source": [
    "order1.state"
   ]
  },
  {
   "cell_type": "code",
   "execution_count": 22,
   "metadata": {},
   "outputs": [
    {
     "name": "stdout",
     "output_type": "stream",
     "text": [
      "已通知用户：商品配送中\n"
     ]
    },
    {
     "data": {
      "text/plain": [
       "True"
      ]
     },
     "execution_count": 22,
     "metadata": {},
     "output_type": "execute_result"
    }
   ],
   "source": [
    "order1.t_deliver()"
   ]
  },
  {
   "cell_type": "code",
   "execution_count": 23,
   "metadata": {},
   "outputs": [
    {
     "data": {
      "text/plain": [
       "'done'"
      ]
     },
     "execution_count": 23,
     "metadata": {},
     "output_type": "execute_result"
    }
   ],
   "source": [
    "order1.t_receive()\n",
    "order1.t_confirm()\n",
    "\n",
    "order1.state"
   ]
  },
  {
   "cell_type": "code",
   "execution_count": null,
   "metadata": {},
   "outputs": [],
   "source": []
  }
 ],
 "metadata": {
  "file_extension": ".py",
  "kernelspec": {
   "display_name": "Python 3",
   "language": "python",
   "name": "python3"
  },
  "language_info": {
   "codemirror_mode": {
    "name": "ipython",
    "version": 3
   },
   "file_extension": ".py",
   "mimetype": "text/x-python",
   "name": "python",
   "nbconvert_exporter": "python",
   "pygments_lexer": "ipython3",
   "version": "3.7.5"
  },
  "mimetype": "text/x-python",
  "name": "python",
  "npconvert_exporter": "python",
  "pygments_lexer": "ipython3",
  "version": 3
 },
 "nbformat": 4,
 "nbformat_minor": 2
}
