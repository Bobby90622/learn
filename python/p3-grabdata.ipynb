{
 "cells": [
  {
   "cell_type": "markdown",
   "metadata": {},
   "source": [
    "crawling - 抽取页面及其所有的超链页面 - crawler spider\n",
    "scraping - 从非结构化的HTML中抽取相应的信息，可以直接从网络中抽取，也可以从crawling取回的页面中进行 - scraper\n",
    "scrubbing - 数据清洗"
   ]
  }
 ],
 "metadata": {
  "kernelspec": {
   "display_name": "Python 3.7.5 64-bit",
   "language": "python",
   "name": "python37564bit9dc6d39d9c7b4a84a162425da91d9183"
  },
  "language_info": {
   "codemirror_mode": {
    "name": "ipython",
    "version": 3
   },
   "file_extension": ".py",
   "mimetype": "text/x-python",
   "name": "python",
   "nbconvert_exporter": "python",
   "pygments_lexer": "ipython3",
   "version": "3.7.5"
  }
 },
 "nbformat": 4,
 "nbformat_minor": 4
}
