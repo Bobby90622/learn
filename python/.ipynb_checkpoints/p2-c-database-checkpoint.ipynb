{
 "cells": [
  {
   "cell_type": "code",
   "execution_count": 1,
   "metadata": {},
   "outputs": [],
   "source": [
    "user = { \n",
    "    'uid': 1,\n",
    "    'name': 'Neo',\n",
    "    'password': '2733bbf0e6a7b9a919d7cca6a7c0f74a',\n",
    "    'email': 'neo@matrix.net',\n",
    "    'mobile': '101-0101'\n",
    "}"
   ]
  },
  {
   "cell_type": "code",
   "execution_count": 2,
   "metadata": {},
   "outputs": [
    {
     "data": {
      "text/plain": [
       "'neo@matrix.net'"
      ]
     },
     "execution_count": 2,
     "metadata": {},
     "output_type": "execute_result"
    }
   ],
   "source": [
    "class User:\n",
    "    def __init__(self, uid, name, password, email, mobile):\n",
    "        self.uid = uid\n",
    "        self.name = name\n",
    "        self.password = User.salt_and_hash(password)\n",
    "        self.email = email\n",
    "        self.mobile = mobile\n",
    "        \n",
    "    def salt_and_hash(password):\n",
    "        return password\n",
    "    \n",
    "user = User(1, 'Neo', 'thereisnospoon', 'neo@matrix.net', '101-0101')\n",
    "user.email"
   ]
  },
  {
   "cell_type": "code",
   "execution_count": 3,
   "metadata": {},
   "outputs": [
    {
     "name": "stdout",
     "output_type": "stream",
     "text": [
      "uid=1: name=neo, email=neo@matrix.net\n",
      "uid=2: name=trinity, email=trinity@matrix.net\n",
      "uid=3: name=morpheus, email=morpheus@matrix.net\n"
     ]
    }
   ],
   "source": [
    "users = []\n",
    "users.append(User(1, 'neo', 'thereisnospoon', 'neo@matrix.net', '101-0101'))\n",
    "users.append(User(2, 'trinity', 'iloveyouneo', 'trinity@matrix.net', '101-1010'))\n",
    "users.append(User(3, 'morpheus', 'ibelieve', 'morpheus@matrix.net', '101-1111'))\n",
    "\n",
    "for user in users:\n",
    "    print(f'uid={user.uid}: name={user.name}, email={user.email}')"
   ]
  },
  {
   "cell_type": "code",
   "execution_count": 7,
   "metadata": {},
   "outputs": [
    {
     "name": "stdout",
     "output_type": "stream",
     "text": [
      "101-1010\n"
     ]
    }
   ],
   "source": [
    "for user in users:\n",
    "    if user.name == 'trinity':\n",
    "        print(user.mobile)"
   ]
  },
  {
   "cell_type": "code",
   "execution_count": 8,
   "metadata": {},
   "outputs": [],
   "source": [
    "for user in users:\n",
    "    if user.name == 'trinity':\n",
    "        user.mobile = '101-0001'"
   ]
  },
  {
   "cell_type": "code",
   "execution_count": 9,
   "metadata": {},
   "outputs": [],
   "source": [
    "users.append(User(4, 'merovingian', 'iknoweverything', 'merovingian@matrix.net', '777-7777'))"
   ]
  },
  {
   "cell_type": "code",
   "execution_count": 10,
   "metadata": {},
   "outputs": [],
   "source": [
    "for user in users:\n",
    "    if not user.mobile.startswith('101'):\n",
    "        users.remove(user)"
   ]
  },
  {
   "cell_type": "code",
   "execution_count": 13,
   "metadata": {},
   "outputs": [
    {
     "data": {
      "text/plain": [
       "[<__main__.User at 0x7fe500363a90>,\n",
       " <__main__.User at 0x7fe500363b00>,\n",
       " <__main__.User at 0x7fe500363b38>]"
      ]
     },
     "execution_count": 13,
     "metadata": {},
     "output_type": "execute_result"
    }
   ],
   "source": [
    "list(users)"
   ]
  },
  {
   "cell_type": "code",
   "execution_count": 1,
   "metadata": {},
   "outputs": [
    {
     "data": {
      "text/html": [
       "<div>\n",
       "<style scoped>\n",
       "    .dataframe tbody tr th:only-of-type {\n",
       "        vertical-align: middle;\n",
       "    }\n",
       "\n",
       "    .dataframe tbody tr th {\n",
       "        vertical-align: top;\n",
       "    }\n",
       "\n",
       "    .dataframe thead th {\n",
       "        text-align: right;\n",
       "    }\n",
       "</style>\n",
       "<table border=\"1\" class=\"dataframe\">\n",
       "  <thead>\n",
       "    <tr style=\"text-align: right;\">\n",
       "      <th></th>\n",
       "      <th>ConstituentID</th>\n",
       "      <th>DisplayName</th>\n",
       "      <th>ArtistBio</th>\n",
       "      <th>Nationality</th>\n",
       "      <th>Gender</th>\n",
       "      <th>BeginDate</th>\n",
       "      <th>EndDate</th>\n",
       "      <th>Wiki QID</th>\n",
       "      <th>ULAN</th>\n",
       "    </tr>\n",
       "  </thead>\n",
       "  <tbody>\n",
       "    <tr>\n",
       "      <th>0</th>\n",
       "      <td>1</td>\n",
       "      <td>Robert Arneson</td>\n",
       "      <td>American, 1930–1992</td>\n",
       "      <td>American</td>\n",
       "      <td>Male</td>\n",
       "      <td>1930</td>\n",
       "      <td>1992</td>\n",
       "      <td>NaN</td>\n",
       "      <td>NaN</td>\n",
       "    </tr>\n",
       "    <tr>\n",
       "      <th>1</th>\n",
       "      <td>2</td>\n",
       "      <td>Doroteo Arnaiz</td>\n",
       "      <td>Spanish, born 1936</td>\n",
       "      <td>Spanish</td>\n",
       "      <td>Male</td>\n",
       "      <td>1936</td>\n",
       "      <td>0</td>\n",
       "      <td>NaN</td>\n",
       "      <td>NaN</td>\n",
       "    </tr>\n",
       "    <tr>\n",
       "      <th>2</th>\n",
       "      <td>3</td>\n",
       "      <td>Bill Arnold</td>\n",
       "      <td>American, born 1941</td>\n",
       "      <td>American</td>\n",
       "      <td>Male</td>\n",
       "      <td>1941</td>\n",
       "      <td>0</td>\n",
       "      <td>NaN</td>\n",
       "      <td>NaN</td>\n",
       "    </tr>\n",
       "    <tr>\n",
       "      <th>3</th>\n",
       "      <td>4</td>\n",
       "      <td>Charles Arnoldi</td>\n",
       "      <td>American, born 1946</td>\n",
       "      <td>American</td>\n",
       "      <td>Male</td>\n",
       "      <td>1946</td>\n",
       "      <td>0</td>\n",
       "      <td>Q1063584</td>\n",
       "      <td>500027998.0</td>\n",
       "    </tr>\n",
       "    <tr>\n",
       "      <th>4</th>\n",
       "      <td>5</td>\n",
       "      <td>Per Arnoldi</td>\n",
       "      <td>Danish, born 1941</td>\n",
       "      <td>Danish</td>\n",
       "      <td>Male</td>\n",
       "      <td>1941</td>\n",
       "      <td>0</td>\n",
       "      <td>NaN</td>\n",
       "      <td>NaN</td>\n",
       "    </tr>\n",
       "    <tr>\n",
       "      <th>5</th>\n",
       "      <td>6</td>\n",
       "      <td>Danilo Aroldi</td>\n",
       "      <td>Italian, born 1925</td>\n",
       "      <td>Italian</td>\n",
       "      <td>Male</td>\n",
       "      <td>1925</td>\n",
       "      <td>0</td>\n",
       "      <td>NaN</td>\n",
       "      <td>NaN</td>\n",
       "    </tr>\n",
       "    <tr>\n",
       "      <th>6</th>\n",
       "      <td>7</td>\n",
       "      <td>Bill Aron</td>\n",
       "      <td>American, born 1941</td>\n",
       "      <td>American</td>\n",
       "      <td>Male</td>\n",
       "      <td>1941</td>\n",
       "      <td>0</td>\n",
       "      <td>NaN</td>\n",
       "      <td>NaN</td>\n",
       "    </tr>\n",
       "    <tr>\n",
       "      <th>7</th>\n",
       "      <td>9</td>\n",
       "      <td>David Aronson</td>\n",
       "      <td>American, born Lithuania 1923</td>\n",
       "      <td>American</td>\n",
       "      <td>Male</td>\n",
       "      <td>1923</td>\n",
       "      <td>0</td>\n",
       "      <td>Q5230870</td>\n",
       "      <td>500003363.0</td>\n",
       "    </tr>\n",
       "    <tr>\n",
       "      <th>8</th>\n",
       "      <td>10</td>\n",
       "      <td>Irene Aronson</td>\n",
       "      <td>American, born Germany 1918</td>\n",
       "      <td>American</td>\n",
       "      <td>Female</td>\n",
       "      <td>1918</td>\n",
       "      <td>0</td>\n",
       "      <td>Q19748568</td>\n",
       "      <td>500042413.0</td>\n",
       "    </tr>\n",
       "    <tr>\n",
       "      <th>9</th>\n",
       "      <td>11</td>\n",
       "      <td>Jean (Hans) Arp</td>\n",
       "      <td>French, born Germany (Alsace). 1886–1966</td>\n",
       "      <td>French</td>\n",
       "      <td>Male</td>\n",
       "      <td>1886</td>\n",
       "      <td>1966</td>\n",
       "      <td>Q153739</td>\n",
       "      <td>500031000.0</td>\n",
       "    </tr>\n",
       "  </tbody>\n",
       "</table>\n",
       "</div>"
      ],
      "text/plain": [
       "   ConstituentID      DisplayName                                 ArtistBio  \\\n",
       "0              1   Robert Arneson                       American, 1930–1992   \n",
       "1              2   Doroteo Arnaiz                        Spanish, born 1936   \n",
       "2              3      Bill Arnold                       American, born 1941   \n",
       "3              4  Charles Arnoldi                       American, born 1946   \n",
       "4              5      Per Arnoldi                         Danish, born 1941   \n",
       "5              6    Danilo Aroldi                        Italian, born 1925   \n",
       "6              7        Bill Aron                       American, born 1941   \n",
       "7              9    David Aronson             American, born Lithuania 1923   \n",
       "8             10    Irene Aronson               American, born Germany 1918   \n",
       "9             11  Jean (Hans) Arp  French, born Germany (Alsace). 1886–1966   \n",
       "\n",
       "  Nationality  Gender  BeginDate  EndDate   Wiki QID         ULAN  \n",
       "0    American    Male       1930     1992        NaN          NaN  \n",
       "1     Spanish    Male       1936        0        NaN          NaN  \n",
       "2    American    Male       1941        0        NaN          NaN  \n",
       "3    American    Male       1946        0   Q1063584  500027998.0  \n",
       "4      Danish    Male       1941        0        NaN          NaN  \n",
       "5     Italian    Male       1925        0        NaN          NaN  \n",
       "6    American    Male       1941        0        NaN          NaN  \n",
       "7    American    Male       1923        0   Q5230870  500003363.0  \n",
       "8    American  Female       1918        0  Q19748568  500042413.0  \n",
       "9      French    Male       1886     1966    Q153739  500031000.0  "
      ]
     },
     "execution_count": 1,
     "metadata": {},
     "output_type": "execute_result"
    }
   ],
   "source": [
    "import pandas as pd\n",
    "\n",
    "data = pd.read_csv('assets/moma-artists.csv')\n",
    "data.head(10)"
   ]
  },
  {
   "cell_type": "code",
   "execution_count": 2,
   "metadata": {},
   "outputs": [
    {
     "data": {
      "text/html": [
       "<div>\n",
       "<style scoped>\n",
       "    .dataframe tbody tr th:only-of-type {\n",
       "        vertical-align: middle;\n",
       "    }\n",
       "\n",
       "    .dataframe tbody tr th {\n",
       "        vertical-align: top;\n",
       "    }\n",
       "\n",
       "    .dataframe thead th {\n",
       "        text-align: right;\n",
       "    }\n",
       "</style>\n",
       "<table border=\"1\" class=\"dataframe\">\n",
       "  <thead>\n",
       "    <tr style=\"text-align: right;\">\n",
       "      <th></th>\n",
       "      <th>ConstituentID</th>\n",
       "      <th>DisplayName</th>\n",
       "      <th>ArtistBio</th>\n",
       "      <th>Nationality</th>\n",
       "      <th>Gender</th>\n",
       "      <th>BeginDate</th>\n",
       "      <th>EndDate</th>\n",
       "      <th>Wiki QID</th>\n",
       "      <th>ULAN</th>\n",
       "    </tr>\n",
       "  </thead>\n",
       "  <tbody>\n",
       "    <tr>\n",
       "      <th>8518</th>\n",
       "      <td>11159</td>\n",
       "      <td>Lexon, France</td>\n",
       "      <td>est. 1990</td>\n",
       "      <td>NaN</td>\n",
       "      <td>NaN</td>\n",
       "      <td>1990</td>\n",
       "      <td>0</td>\n",
       "      <td>NaN</td>\n",
       "      <td>NaN</td>\n",
       "    </tr>\n",
       "    <tr>\n",
       "      <th>10523</th>\n",
       "      <td>29566</td>\n",
       "      <td>OFFECCT</td>\n",
       "      <td>Sweden, est. 1990</td>\n",
       "      <td>Swedish</td>\n",
       "      <td>NaN</td>\n",
       "      <td>1990</td>\n",
       "      <td>0</td>\n",
       "      <td>NaN</td>\n",
       "      <td>NaN</td>\n",
       "    </tr>\n",
       "    <tr>\n",
       "      <th>11545</th>\n",
       "      <td>34168</td>\n",
       "      <td>Kengo Kuma &amp; Associates</td>\n",
       "      <td>Japan, est. 1990</td>\n",
       "      <td>NaN</td>\n",
       "      <td>NaN</td>\n",
       "      <td>1990</td>\n",
       "      <td>0</td>\n",
       "      <td>NaN</td>\n",
       "      <td>NaN</td>\n",
       "    </tr>\n",
       "    <tr>\n",
       "      <th>12469</th>\n",
       "      <td>37888</td>\n",
       "      <td>Werkplaats Martin van Oel</td>\n",
       "      <td>Dutch, est. 1990</td>\n",
       "      <td>Dutch</td>\n",
       "      <td>NaN</td>\n",
       "      <td>1990</td>\n",
       "      <td>0</td>\n",
       "      <td>NaN</td>\n",
       "      <td>NaN</td>\n",
       "    </tr>\n",
       "    <tr>\n",
       "      <th>14254</th>\n",
       "      <td>46529</td>\n",
       "      <td>Joseph Pleass</td>\n",
       "      <td>British, born 1990</td>\n",
       "      <td>British</td>\n",
       "      <td>Male</td>\n",
       "      <td>1990</td>\n",
       "      <td>0</td>\n",
       "      <td>NaN</td>\n",
       "      <td>NaN</td>\n",
       "    </tr>\n",
       "    <tr>\n",
       "      <th>14703</th>\n",
       "      <td>48039</td>\n",
       "      <td>Jacqueline Yuan Quinn</td>\n",
       "      <td>NaN</td>\n",
       "      <td>American</td>\n",
       "      <td>Female</td>\n",
       "      <td>1990</td>\n",
       "      <td>0</td>\n",
       "      <td>NaN</td>\n",
       "      <td>NaN</td>\n",
       "    </tr>\n",
       "    <tr>\n",
       "      <th>15514</th>\n",
       "      <td>69266</td>\n",
       "      <td>Richard Malone</td>\n",
       "      <td>Irish, born 1990</td>\n",
       "      <td>Irish</td>\n",
       "      <td>Male</td>\n",
       "      <td>1990</td>\n",
       "      <td>0</td>\n",
       "      <td>NaN</td>\n",
       "      <td>NaN</td>\n",
       "    </tr>\n",
       "  </tbody>\n",
       "</table>\n",
       "</div>"
      ],
      "text/plain": [
       "       ConstituentID                DisplayName           ArtistBio  \\\n",
       "8518           11159              Lexon, France           est. 1990   \n",
       "10523          29566                    OFFECCT   Sweden, est. 1990   \n",
       "11545          34168    Kengo Kuma & Associates    Japan, est. 1990   \n",
       "12469          37888  Werkplaats Martin van Oel    Dutch, est. 1990   \n",
       "14254          46529              Joseph Pleass  British, born 1990   \n",
       "14703          48039      Jacqueline Yuan Quinn                 NaN   \n",
       "15514          69266             Richard Malone    Irish, born 1990   \n",
       "\n",
       "      Nationality  Gender  BeginDate  EndDate Wiki QID  ULAN  \n",
       "8518          NaN     NaN       1990        0      NaN   NaN  \n",
       "10523     Swedish     NaN       1990        0      NaN   NaN  \n",
       "11545         NaN     NaN       1990        0      NaN   NaN  \n",
       "12469       Dutch     NaN       1990        0      NaN   NaN  \n",
       "14254     British    Male       1990        0      NaN   NaN  \n",
       "14703    American  Female       1990        0      NaN   NaN  \n",
       "15514       Irish    Male       1990        0      NaN   NaN  "
      ]
     },
     "execution_count": 2,
     "metadata": {},
     "output_type": "execute_result"
    }
   ],
   "source": [
    "data.query('BeginDate >= 1990 and BeginDate < 1991')"
   ]
  },
  {
   "cell_type": "code",
   "execution_count": 3,
   "metadata": {},
   "outputs": [
    {
     "data": {
      "text/html": [
       "<div>\n",
       "<style scoped>\n",
       "    .dataframe tbody tr th:only-of-type {\n",
       "        vertical-align: middle;\n",
       "    }\n",
       "\n",
       "    .dataframe tbody tr th {\n",
       "        vertical-align: top;\n",
       "    }\n",
       "\n",
       "    .dataframe thead th {\n",
       "        text-align: right;\n",
       "    }\n",
       "</style>\n",
       "<table border=\"1\" class=\"dataframe\">\n",
       "  <thead>\n",
       "    <tr style=\"text-align: right;\">\n",
       "      <th></th>\n",
       "      <th>ConstituentID</th>\n",
       "      <th>DisplayName</th>\n",
       "      <th>ArtistBio</th>\n",
       "      <th>Nationality</th>\n",
       "      <th>Gender</th>\n",
       "      <th>BeginDate</th>\n",
       "      <th>EndDate</th>\n",
       "      <th>Wiki QID</th>\n",
       "      <th>ULAN</th>\n",
       "    </tr>\n",
       "  </thead>\n",
       "  <tbody>\n",
       "    <tr>\n",
       "      <th>13386</th>\n",
       "      <td>42126</td>\n",
       "      <td>Birdhead</td>\n",
       "      <td>Chinese, active 2004</td>\n",
       "      <td>Chinese</td>\n",
       "      <td>NaN</td>\n",
       "      <td>2004</td>\n",
       "      <td>0</td>\n",
       "      <td>NaN</td>\n",
       "      <td>NaN</td>\n",
       "    </tr>\n",
       "    <tr>\n",
       "      <th>15645</th>\n",
       "      <td>70012</td>\n",
       "      <td>Archi-Union Architects</td>\n",
       "      <td>Chinese, est. 2003</td>\n",
       "      <td>Chinese</td>\n",
       "      <td>NaN</td>\n",
       "      <td>2003</td>\n",
       "      <td>0</td>\n",
       "      <td>NaN</td>\n",
       "      <td>NaN</td>\n",
       "    </tr>\n",
       "  </tbody>\n",
       "</table>\n",
       "</div>"
      ],
      "text/plain": [
       "       ConstituentID             DisplayName             ArtistBio  \\\n",
       "13386          42126                Birdhead  Chinese, active 2004   \n",
       "15645          70012  Archi-Union Architects    Chinese, est. 2003   \n",
       "\n",
       "      Nationality Gender  BeginDate  EndDate Wiki QID  ULAN  \n",
       "13386     Chinese    NaN       2004        0      NaN   NaN  \n",
       "15645     Chinese    NaN       2003        0      NaN   NaN  "
      ]
     },
     "execution_count": 3,
     "metadata": {},
     "output_type": "execute_result"
    }
   ],
   "source": [
    "data.query('Nationality == \"Chinese\" and BeginDate >= 1990')"
   ]
  },
  {
   "cell_type": "code",
   "execution_count": 10,
   "metadata": {},
   "outputs": [
    {
     "name": "stdout",
     "output_type": "stream",
     "text": [
      "获取数据：{'code': 0, 'msg': '请求成功', 'loggerId': '5e3d797d229b5', 'data': {'items': [{'cardType': 1, 'masterSubject': {'name': '初一语文', 'id': 2010}, 'clazzName': '【初一】英语语文数学寒假提分训练营', 'clazzNumber': '4347587469010432', 'subClazzNumber': 4347587468372481, 'clazzType': '15', 'isLiving': 0, 'liveClazzLessonNumber': '', 'arrangement': '02月05日-02月10日', 'masterTeachers': [{'number': '372938538', 'name': '李军', 'avatar': 'https://imgs.genshuixue.com/181015888_mwmxvcfe.png', 'time': 1581087090, 'posterUrl': 'https://imgs.genshuixue.com/181015959_xjksn9m0.png', 'tags': '跟谁学签约名师', 'type': 1}, {'number': '332702778', 'name': '木木', 'avatar': 'https://imgs.genshuixue.com/181016065_xzito4z6.png', 'time': 1581087090, 'posterUrl': 'https://imgs.genshuixue.com/181016165_4zqs2zz9.png', 'tags': '跟谁学签约名师', 'type': 1}, {'number': '878476028', 'name': '傲德', 'avatar': 'https://imgs.genshuixue.com/181015192_groaom65.png', 'time': 1581087090, 'posterUrl': 'https://imgs.genshuixue.com/181015264_vwpgwilp.png', 'tags': '跟谁学签约名师', 'type': 1}], 'clazzDetailSchema': 'bjhlstudent://o.c?a=classDetail&courseNumber=4347587469010432&subclazzNumber=&courseType=15', 'discount': {'originPrice': 0, 'number': 4347587469010432, 'discount': None, 'price': 0, 'enrollPrice': 0}, 'linkClazzTag': '', 'latelyBeginTime': 1581161400, 'lessonType': 1, 'hasBuy': False, 'studentCount': 48013}, {'cardType': 1, 'masterSubject': {'name': '初一语文', 'id': 2010}, 'clazzName': '【初一】英语数学语文寒假提分训练营', 'clazzNumber': '4337427088924672', 'subClazzNumber': 4422369165298688, 'clazzType': '15', 'isLiving': 0, 'liveClazzLessonNumber': '', 'arrangement': '2月7日-2月12日', 'masterTeachers': [{'number': '372938538', 'name': '李军', 'avatar': 'https://imgs.genshuixue.com/181015888_mwmxvcfe.png', 'time': 1581087090, 'posterUrl': 'https://imgs.genshuixue.com/181015959_xjksn9m0.png', 'tags': '跟谁学签约名师', 'type': 1}, {'number': '878476028', 'name': '傲德', 'avatar': 'https://imgs.genshuixue.com/181015192_groaom65.png', 'time': 1581087090, 'posterUrl': 'https://imgs.genshuixue.com/181015264_vwpgwilp.png', 'tags': '跟谁学签约名师', 'type': 1}], 'clazzDetailSchema': 'bjhlstudent://o.c?a=classDetail&courseNumber=4337427088924672&subclazzNumber=&courseType=15', 'discount': {'originPrice': 0, 'number': 4337427088924672, 'discount': None, 'price': 0, 'enrollPrice': 0}, 'linkClazzTag': '', 'latelyBeginTime': 1581162600, 'lessonType': 1, 'hasBuy': False, 'studentCount': 31514}, {'cardType': 1, 'masterSubject': {'name': '初一英语', 'id': 2030}, 'clazzName': '【初一】英语语文数学寒假提分训练营', 'clazzNumber': '4426198937742336', 'subClazzNumber': 4426198937239553, 'clazzType': '15', 'isLiving': 0, 'liveClazzLessonNumber': '', 'arrangement': '02月07日-02月12日', 'masterTeachers': [{'number': '372938538', 'name': '李军', 'avatar': 'https://imgs.genshuixue.com/181015888_mwmxvcfe.png', 'time': 1581087094, 'posterUrl': 'https://imgs.genshuixue.com/181015959_xjksn9m0.png', 'tags': '跟谁学签约名师', 'type': 1}, {'number': '878476028', 'name': '傲德', 'avatar': 'https://imgs.genshuixue.com/181015192_groaom65.png', 'time': 1581087094, 'posterUrl': 'https://imgs.genshuixue.com/181015264_vwpgwilp.png', 'tags': '跟谁学签约名师', 'type': 1}, {'number': '562069908', 'name': '傲德', 'avatar': 'https://imgs.genshuixue.com/234812709_q7ax0og6.png', 'time': 1581087094, 'posterUrl': 'https://imgs.genshuixue.com/234812798_u1so9xln.png', 'tags': '跟谁学签约名师', 'type': 1}], 'clazzDetailSchema': 'bjhlstudent://o.c?a=classDetail&courseNumber=4426198937742336&subclazzNumber=&courseType=15', 'discount': {'originPrice': 0, 'number': 4426198937742336, 'discount': None, 'price': 0, 'enrollPrice': 0}, 'linkClazzTag': '', 'latelyBeginTime': 1581162600, 'lessonType': 1, 'hasBuy': False, 'studentCount': 21203}, {'cardType': 2, 'masterSubject': {'name': '', 'id': 0}, 'clazzName': '【2020-寒春】七年级英语目标班', 'clazzNumber': '3771787239214080', 'subClazzNumber': None, 'clazzType': '17', 'isLiving': 0, 'liveClazzLessonNumber': '', 'arrangement': '2门课程联报', 'masterTeachers': [{'number': '372938538', 'name': '李军', 'avatar': 'https://imgs.genshuixue.com/181015888_mwmxvcfe.png', 'time': 1581087086, 'posterUrl': 'https://imgs.genshuixue.com/181015959_xjksn9m0.png', 'tags': '跟谁学签约名师', 'type': 1}], 'clazzDetailSchema': 'bjhlstudent://o.c?a=linkClassDetail&linkClazzNumber=3771787239214080', 'discount': {'originPrice': 399800, 'number': 3771787239214080, 'discount': {'number': 4456080197083136, 'entityNumber': 3771787239214080, 'entityType': 1, 'price': 289800, 'name': '3572105682174976', 'status': 2, 'beginTime': '2020-02-07 21:00:34', 'endTime': '2020-02-07 23:59:59', 'currentTime': '2020-02-07 22:51:26', 'repeatType': 1, 'repeatBeginTime': 0, 'repeatEndTime': 0, 'type': 1, 'limitCount': 0, 'usedCount': 0, 'addCount': 0, 'diffPersonScope': 0}, 'price': 399800, 'enrollPrice': 0}, 'linkClazzTag': '北大网红名师', 'latelyBeginTime': 0, 'lessonType': None, 'hasBuy': False, 'studentCount': 0}, {'cardType': 2, 'masterSubject': {'name': '', 'id': 0}, 'clazzName': '【2020-寒春】七年级语文目标班', 'clazzNumber': '3771220386840576', 'subClazzNumber': None, 'clazzType': '17', 'isLiving': 0, 'liveClazzLessonNumber': '', 'arrangement': '2门课程联报', 'masterTeachers': [{'number': '332702778', 'name': '木木', 'avatar': 'https://imgs.genshuixue.com/181016065_xzito4z6.png', 'time': 1581087098, 'posterUrl': 'https://imgs.genshuixue.com/181016165_4zqs2zz9.png', 'tags': '跟谁学签约名师', 'type': 1}], 'clazzDetailSchema': 'bjhlstudent://o.c?a=linkClassDetail&linkClazzNumber=3771220386840576', 'discount': {'originPrice': 399800, 'number': 3771220386840576, 'discount': {'number': 4455039941961216, 'entityNumber': 3771220386840576, 'entityType': 1, 'price': 289800, 'name': '木木晚8点限时', 'status': 2, 'beginTime': '2020-02-07 20:00:35', 'endTime': '2020-02-07 23:59:59', 'currentTime': '2020-02-07 22:51:38', 'repeatType': 1, 'repeatBeginTime': 0, 'repeatEndTime': 0, 'type': 1, 'limitCount': 0, 'usedCount': 0, 'addCount': 0, 'diffPersonScope': 0}, 'price': 399800, 'enrollPrice': 0}, 'linkClazzTag': '十年一线经验', 'latelyBeginTime': 0, 'lessonType': None, 'hasBuy': False, 'studentCount': 0}, {'cardType': 2, 'masterSubject': {'name': '', 'id': 0}, 'clazzName': '【2020-寒春】七年级数学目标班', 'clazzNumber': '3560334306403840', 'subClazzNumber': None, 'clazzType': '17', 'isLiving': 0, 'liveClazzLessonNumber': '', 'arrangement': '2门课程联报', 'masterTeachers': [{'number': '878476028', 'name': '傲德', 'avatar': 'https://imgs.genshuixue.com/181015192_groaom65.png', 'time': 1581087086, 'posterUrl': 'https://imgs.genshuixue.com/181015264_vwpgwilp.png', 'tags': '跟谁学签约名师', 'type': 1}], 'clazzDetailSchema': 'bjhlstudent://o.c?a=linkClassDetail&linkClazzNumber=3560334306403840', 'discount': {'originPrice': 399800, 'number': 3560334306403840, 'discount': None, 'price': 399800, 'enrollPrice': 0}, 'linkClazzTag': '北大网红名师', 'latelyBeginTime': 0, 'lessonType': None, 'hasBuy': False, 'studentCount': 0}], 'pager': {'size': 6, 'cursor': 2, 'hasMore': False, 'total': 6}}, 'ts': 1581087101, 'path': '/sapi/viewLogic/selectCourse/courses'}\n"
     ]
    }
   ],
   "source": [
    "import urllib3\n",
    "import json\n",
    "\n",
    "url = 'https://www.genshuixue.com/sapi/viewLogic/selectCourse/courses?course=all&size=12&subjectId=0&gradeId=200&categoryId=10'\n",
    "\n",
    "http = urllib3.PoolManager()\n",
    "r = http.request('GET', url)\n",
    "if r.status == 200:\n",
    "    data = json.loads(r.data.decode('utf8','strict'))\n",
    "    print(f'获取数据：{data}')\n",
    "else:\n",
    "    print(f'访问服务失败，错误码：{r.status}')"
   ]
  },
  {
   "cell_type": "code",
   "execution_count": 12,
   "metadata": {},
   "outputs": [
    {
     "name": "stdout",
     "output_type": "stream",
     "text": [
      "('3364', 'Capital Intl', 'Beijing', 'PEK')\n",
      "('6817', 'Hongyuan Airfield', 'Hongyuan', None)\n",
      "('3366', 'Dongshan', 'Hailar', 'HLD')\n"
     ]
    }
   ],
   "source": [
    "import sqlite3\n",
    "\n",
    "try:\n",
    "    conn = sqlite3.connect('assets/flights.db')\n",
    "    cursor = conn.cursor()\n",
    "    cursor.execute('SELECT id, name, city, code FROM airports WHERE country=\"China\";')\n",
    "    \n",
    "    print(cursor.fetchone())\n",
    "    print(cursor.fetchone())\n",
    "    print(cursor.fetchone())\n",
    "finally:\n",
    "    cursor.close()\n",
    "    conn.close()"
   ]
  },
  {
   "cell_type": "code",
   "execution_count": null,
   "metadata": {},
   "outputs": [],
   "source": []
  }
 ],
 "metadata": {
  "file_extension": ".py",
  "kernelspec": {
   "display_name": "Python 3",
   "language": "python",
   "name": "python3"
  },
  "language_info": {
   "codemirror_mode": {
    "name": "ipython",
    "version": 3
   },
   "file_extension": ".py",
   "mimetype": "text/x-python",
   "name": "python",
   "nbconvert_exporter": "python",
   "pygments_lexer": "ipython3",
   "version": "3.7.3"
  },
  "mimetype": "text/x-python",
  "name": "python",
  "npconvert_exporter": "python",
  "pygments_lexer": "ipython3",
  "version": 3
 },
 "nbformat": 4,
 "nbformat_minor": 2
}
