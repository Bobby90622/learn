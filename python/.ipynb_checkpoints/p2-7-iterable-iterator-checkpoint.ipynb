{
 "cells": [
  {
   "cell_type": "code",
   "execution_count": 1,
   "metadata": {},
   "outputs": [
    {
     "name": "stdout",
     "output_type": "stream",
     "text": [
      "1\n",
      "2\n",
      "3\n"
     ]
    }
   ],
   "source": [
    "for i in [1, 2, 3]:\n",
    "  print(i)"
   ]
  },
  {
   "cell_type": "code",
   "execution_count": 5,
   "metadata": {},
   "outputs": [
    {
     "data": {
      "text/plain": [
       "1"
      ]
     },
     "execution_count": 5,
     "metadata": {},
     "output_type": "execute_result"
    }
   ],
   "source": [
    "class squares:\n",
    "    def __init__(self):\n",
    "        self.base = 0\n",
    "        \n",
    "    def __iter__(self):\n",
    "        return self\n",
    "    \n",
    "    def __next__(self):\n",
    "        self.base += 1\n",
    "        return self.base * self.base\n",
    "    \n",
    "    next = __next__\n",
    "    \n",
    "iter = squares()\n",
    "iter.next()"
   ]
  },
  {
   "cell_type": "code",
   "execution_count": 6,
   "metadata": {},
   "outputs": [
    {
     "data": {
      "text/plain": [
       "4"
      ]
     },
     "execution_count": 6,
     "metadata": {},
     "output_type": "execute_result"
    }
   ],
   "source": [
    "iter.next()"
   ]
  },
  {
   "cell_type": "code",
   "execution_count": 7,
   "metadata": {},
   "outputs": [
    {
     "data": {
      "text/plain": [
       "9"
      ]
     },
     "execution_count": 7,
     "metadata": {},
     "output_type": "execute_result"
    }
   ],
   "source": [
    "iter.next()"
   ]
  },
  {
   "cell_type": "code",
   "execution_count": 12,
   "metadata": {},
   "outputs": [],
   "source": [
    "class squares:\n",
    "    def __init__(self, max):\n",
    "        self.base = 0\n",
    "        self.max = max\n",
    "        \n",
    "    def __iter__(self):\n",
    "        return self\n",
    "    \n",
    "    def __next__(self):\n",
    "        self.base += 1\n",
    "        if self.base > self.max:\n",
    "            raise StopIteration\n",
    "        else:\n",
    "            return self.base * self.base\n",
    "    \n",
    "    # next = __next__"
   ]
  },
  {
   "cell_type": "code",
   "execution_count": 13,
   "metadata": {},
   "outputs": [
    {
     "name": "stdout",
     "output_type": "stream",
     "text": [
      "1\n",
      "4\n",
      "9\n"
     ]
    }
   ],
   "source": [
    "for n in squares(3):\n",
    "    print(n)"
   ]
  },
  {
   "cell_type": "code",
   "execution_count": 14,
   "metadata": {},
   "outputs": [],
   "source": [
    "class fib:\n",
    "    def __init__(self):\n",
    "        self.prev = 0\n",
    "        self.curr = 1\n",
    "        \n",
    "    def __iter__(self):\n",
    "        return self\n",
    "    \n",
    "    def __next__(self):\n",
    "        self.prev, self.curr = self.curr, self.prev + self.curr\n",
    "        return self.prev"
   ]
  },
  {
   "cell_type": "code",
   "execution_count": 15,
   "metadata": {},
   "outputs": [
    {
     "name": "stdout",
     "output_type": "stream",
     "text": [
      "1\n",
      "1\n",
      "2\n",
      "3\n",
      "5\n",
      "8\n",
      "13\n",
      "21\n",
      "34\n",
      "55\n"
     ]
    }
   ],
   "source": [
    "from itertools import islice\n",
    "\n",
    "f = fib()\n",
    "for n in islice(f, 0, 10):\n",
    "    print(n)"
   ]
  },
  {
   "cell_type": "code",
   "execution_count": 16,
   "metadata": {},
   "outputs": [
    {
     "name": "stdout",
     "output_type": "stream",
     "text": [
      "['red', 'blue', 'gray', 'red', 'blue', 'gray', 'red']\n"
     ]
    }
   ],
   "source": [
    "from itertools import cycle\n",
    "\n",
    "colors = cycle(['red', 'blue', 'gray'])\n",
    "\n",
    "print(list(islice(colors, 0, 7)))"
   ]
  },
  {
   "cell_type": "code",
   "execution_count": 17,
   "metadata": {},
   "outputs": [
    {
     "data": {
      "text/plain": [
       "[1, 1, 2, 3, 5, 8, 13, 21, 34, 55]"
      ]
     },
     "execution_count": 17,
     "metadata": {},
     "output_type": "execute_result"
    }
   ],
   "source": [
    "def fib():\n",
    "    prev, curr = 0, 1\n",
    "    while True:\n",
    "        yield curr\n",
    "        prev, curr = curr, prev + curr\n",
    "        \n",
    "f = fib()\n",
    "list(islice(f, 0, 10))"
   ]
  },
  {
   "cell_type": "code",
   "execution_count": 19,
   "metadata": {},
   "outputs": [
    {
     "data": {
      "text/plain": [
       "generator"
      ]
     },
     "execution_count": 19,
     "metadata": {},
     "output_type": "execute_result"
    }
   ],
   "source": [
    "type(fib())"
   ]
  },
  {
   "cell_type": "markdown",
   "metadata": {},
   "source": [
    "1. iterator 版本"
   ]
  },
  {
   "cell_type": "code",
   "execution_count": 17,
   "metadata": {},
   "outputs": [],
   "source": [
    "from math import sqrt\n",
    "from itertools import islice\n",
    "\n",
    "class generate_prime:\n",
    "    def __init__(self, start = 0, end = float('inf'), count = 10):\n",
    "        self.start = start\n",
    "        self.end = end\n",
    "        self.count = count\n",
    "        \n",
    "    def __iter__(self):\n",
    "        return self\n",
    "    \n",
    "    def _is_prime(self, n):\n",
    "        if n < 2:\n",
    "            return False\n",
    "        elif n in (2, 3):\n",
    "            return True\n",
    "        else:\n",
    "            for i in range(2, int(sqrt(n)) + 1):\n",
    "                if n % i == 0:\n",
    "                    return False\n",
    "            return True\n",
    "    \n",
    "    def __next__(self):\n",
    "        if not self.count or self.start >= self.end:\n",
    "            raise StopIteration\n",
    "\n",
    "        n = self.start\n",
    "        \n",
    "        while not self._is_prime(n):\n",
    "            self.start += 1\n",
    "            n = self.start\n",
    "    \n",
    "        self.start += 1\n",
    "        self.count -= 1\n",
    "        return n            "
   ]
  },
  {
   "cell_type": "code",
   "execution_count": 21,
   "metadata": {},
   "outputs": [
    {
     "data": {
      "text/plain": [
       "[2, 3, 5, 7, 11, 13, 17, 19, 23, 29, 31, 37, 41, 43, 47]"
      ]
     },
     "execution_count": 21,
     "metadata": {},
     "output_type": "execute_result"
    }
   ],
   "source": [
    "primes = generate_prime(count = float('inf'))\n",
    "\n",
    "# for p in primes:\n",
    "#     print(p)\n",
    "list(islice(primes, 0, 15))\n",
    "# list(primes)"
   ]
  },
  {
   "cell_type": "markdown",
   "metadata": {},
   "source": [
    "2. generator 版本"
   ]
  },
  {
   "cell_type": "code",
   "execution_count": 23,
   "metadata": {},
   "outputs": [],
   "source": [
    "from math import sqrt\n",
    "\n",
    "def is_prime(n):\n",
    "    if n < 2:\n",
    "        return False\n",
    "    elif n in (2, 3):\n",
    "        return True\n",
    "    else:\n",
    "        for i in range(2, int(sqrt(n)) + 1):\n",
    "            if n % i == 0:\n",
    "                return False\n",
    "        return True\n",
    "\n",
    "def gen_prime(start = 0, end = float('inf'), count = 10):\n",
    "    '''The Generator which yield the sequence of prime number'''\n",
    "    while start < end and count:\n",
    "        if is_prime(start):\n",
    "            yield start\n",
    "            start += 1\n",
    "            count -= 1\n",
    "        else:\n",
    "            start += 1"
   ]
  },
  {
   "cell_type": "code",
   "execution_count": 31,
   "metadata": {},
   "outputs": [
    {
     "data": {
      "text/plain": [
       "[2, 3, 5, 7, 11, 13, 17, 19, 23, 29, 31, 37, 41, 43, 47]"
      ]
     },
     "execution_count": 31,
     "metadata": {},
     "output_type": "execute_result"
    }
   ],
   "source": [
    "prime_generator = gen_prime(count = 15)\n",
    "\n",
    "list(prime_generator)"
   ]
  },
  {
   "cell_type": "markdown",
   "metadata": {},
   "source": [
    "3. 埃拉斯托特尼筛法"
   ]
  },
  {
   "cell_type": "code",
   "execution_count": 34,
   "metadata": {},
   "outputs": [],
   "source": [
    "def primes_filter():\n",
    "    D = {}\n",
    "    q = 2\n",
    "    \n",
    "    while 1:\n",
    "        if q not in D:\n",
    "            yield q\n",
    "            D[q*q] = [q]\n",
    "        else:\n",
    "            for p in D[q]:\n",
    "                D.setdefault(p+q, []).append(p)\n",
    "                \n",
    "            del D[q]\n",
    "            \n",
    "        q += 1"
   ]
  },
  {
   "cell_type": "code",
   "execution_count": 35,
   "metadata": {},
   "outputs": [
    {
     "data": {
      "text/plain": [
       "[2, 3, 5, 7, 11, 13, 17, 19, 23, 29, 31, 37, 41, 43, 47]"
      ]
     },
     "execution_count": 35,
     "metadata": {},
     "output_type": "execute_result"
    }
   ],
   "source": [
    "from itertools import islice\n",
    "\n",
    "list(islice(primes_filter(), 0, 15))"
   ]
  },
  {
   "cell_type": "code",
   "execution_count": null,
   "metadata": {},
   "outputs": [],
   "source": []
  }
 ],
 "metadata": {
  "file_extension": ".py",
  "kernelspec": {
   "display_name": "Python 3",
   "language": "python",
   "name": "python3"
  },
  "language_info": {
   "codemirror_mode": {
    "name": "ipython",
    "version": 3
   },
   "file_extension": ".py",
   "mimetype": "text/x-python",
   "name": "python",
   "nbconvert_exporter": "python",
   "pygments_lexer": "ipython3",
   "version": "3.7.3"
  },
  "mimetype": "text/x-python",
  "name": "python",
  "npconvert_exporter": "python",
  "pygments_lexer": "ipython3",
  "version": 3
 },
 "nbformat": 4,
 "nbformat_minor": 2
}
