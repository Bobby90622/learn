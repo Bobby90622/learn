{
 "cells": [
  {
   "cell_type": "markdown",
   "metadata": {},
   "source": [
    "一门语言是否能够长期流行，更语言的本身特性有一定的关联，关键是在于是否有一个基于它的杀手级应用(killer app)\n",
    "\n",
    "ruby killer app - ruby on rails (这个应用很牛逼，但其核心很快就被 python js 等其他动态语言学了过去)\n",
    "\n",
    "C killer app - unix (C语言是操作系统和硬件打交道的桥梁)\n",
    "\n",
    "Java killer app - 一些中间件，能够很方便的做一些WebApp，积累了很多商业化的厂商和软件包\n",
    "\n",
    "Python killer app - Numpy"
   ]
  },
  {
   "cell_type": "markdown",
   "metadata": {},
   "source": [
    "数组是有维度的\n",
    "\n",
    "一维数组 [1,2,3] vector 向量\n",
    "\n",
    "二维数组 [[1,2,3], [4,5,6]] matrix 矩阵  有行和列(两行三列)\n",
    "\n",
    "三维及以上数组  tensor 张量 超过两维很难有直观的表现"
   ]
  },
  {
   "cell_type": "code",
   "execution_count": null,
   "metadata": {},
   "outputs": [],
   "source": []
  }
 ],
 "metadata": {
  "kernelspec": {
   "display_name": "Python 3",
   "language": "python",
   "name": "python3"
  },
  "language_info": {
   "codemirror_mode": {
    "name": "ipython",
    "version": 3
   },
   "file_extension": ".py",
   "mimetype": "text/x-python",
   "name": "python",
   "nbconvert_exporter": "python",
   "pygments_lexer": "ipython3",
   "version": "3.7.5"
  }
 },
 "nbformat": 4,
 "nbformat_minor": 4
}
