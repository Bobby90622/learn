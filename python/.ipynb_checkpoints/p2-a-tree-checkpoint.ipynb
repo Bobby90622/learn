{
 "cells": [
  {
   "cell_type": "code",
   "execution_count": 1,
   "metadata": {},
   "outputs": [],
   "source": [
    "def f(root):\n",
    "    for node in root.children:\n",
    "        f(node)"
   ]
  },
  {
   "cell_type": "code",
   "execution_count": 2,
   "metadata": {},
   "outputs": [],
   "source": [
    "class TreeNode:\n",
    "    def __init__(self, name = 'root', parent = None, children = None, data = None):\n",
    "        self.name = name\n",
    "        self.data = data\n",
    "        \n",
    "        if parent:\n",
    "            assert isinstance(parent, TreeNode)\n",
    "            parent.add_child(self)\n",
    "        self.parent = parent\n",
    "        \n",
    "        self.children = []\n",
    "        if children:\n",
    "            for child in children:\n",
    "                assert isinstance(child, TreeNode)\n",
    "                self.add_child(child)\n",
    "                \n",
    "    def add_child(self, node):\n",
    "        assert isinstance(node, TreeNode)\n",
    "        node.parent = self\n",
    "        self.children.append(node)"
   ]
  },
  {
   "cell_type": "code",
   "execution_count": null,
   "metadata": {},
   "outputs": [],
   "source": []
  }
 ],
 "metadata": {
  "file_extension": ".py",
  "kernelspec": {
   "display_name": "Python 3",
   "language": "python",
   "name": "python3"
  },
  "language_info": {
   "codemirror_mode": {
    "name": "ipython",
    "version": 3
   },
   "file_extension": ".py",
   "mimetype": "text/x-python",
   "name": "python",
   "nbconvert_exporter": "python",
   "pygments_lexer": "ipython3",
   "version": "3.7.3"
  },
  "mimetype": "text/x-python",
  "name": "python",
  "npconvert_exporter": "python",
  "pygments_lexer": "ipython3",
  "version": 3
 },
 "nbformat": 4,
 "nbformat_minor": 2
}
